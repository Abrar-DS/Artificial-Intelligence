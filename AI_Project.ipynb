{
  "cells": [
    {
      "cell_type": "markdown",
      "metadata": {
        "id": "XGaIqyHSFtfm"
      },
      "source": [
        "# **Import Data**"
      ]
    },
    {
      "cell_type": "code",
      "execution_count": 66,
      "metadata": {
        "id": "VeXh_mZhcEWX"
      },
      "outputs": [],
      "source": [
        "# import analysis libraries\n",
        "import pandas as pd\n",
        "import numpy as np\n"
      ]
    },
    {
      "cell_type": "code",
      "execution_count": 67,
      "metadata": {
        "id": "FBUDF_kxb6IV"
      },
      "outputs": [],
      "source": [
        "\n",
        "# Load and Read Data from CSV files\n",
        "test_data = pd.read_csv(\"test.csv\")\n",
        "train_data= pd.read_csv(\"train.csv\")\n"
      ]
    },
    {
      "cell_type": "code",
      "execution_count": 68,
      "metadata": {
        "id": "L7yGTIgcgLsE"
      },
      "outputs": [],
      "source": [
        "# create df copy\n",
        "train = train_data.copy()\n",
        "test= test_data.copy()"
      ]
    },
    {
      "cell_type": "code",
      "execution_count": 69,
      "metadata": {
        "colab": {
          "base_uri": "https://localhost:8080/"
        },
        "id": "a-nvzqxPgV_u",
        "outputId": "69642773-b7b5-4e52-929e-56c63ac7717f"
      },
      "outputs": [
        {
          "output_type": "stream",
          "name": "stdout",
          "text": [
            "\n",
            " train dataset shape is  (1458644, 11)\n",
            "\n",
            " test dataset shape is  (625134, 9)\n"
          ]
        }
      ],
      "source": [
        "# print shape of the data set \n",
        "print('\\n', \"train dataset shape is \",train.shape )\n",
        "print('\\n', \"test dataset shape is \",test.shape )"
      ]
    },
    {
      "cell_type": "code",
      "execution_count": 70,
      "metadata": {
        "colab": {
          "base_uri": "https://localhost:8080/"
        },
        "id": "IMPDLxjlgZO0",
        "outputId": "9e8dbb94-bf59-43c4-8dee-13946b57b71d"
      },
      "outputs": [
        {
          "output_type": "stream",
          "name": "stdout",
          "text": [
            "<class 'pandas.core.frame.DataFrame'>\n",
            "RangeIndex: 1458644 entries, 0 to 1458643\n",
            "Data columns (total 11 columns):\n",
            " #   Column              Non-Null Count    Dtype  \n",
            "---  ------              --------------    -----  \n",
            " 0   id                  1458644 non-null  object \n",
            " 1   vendor_id           1458644 non-null  int64  \n",
            " 2   pickup_datetime     1458644 non-null  object \n",
            " 3   dropoff_datetime    1458644 non-null  object \n",
            " 4   passenger_count     1458644 non-null  int64  \n",
            " 5   pickup_longitude    1458644 non-null  float64\n",
            " 6   pickup_latitude     1458644 non-null  float64\n",
            " 7   dropoff_longitude   1458644 non-null  float64\n",
            " 8   dropoff_latitude    1458644 non-null  float64\n",
            " 9   store_and_fwd_flag  1458644 non-null  object \n",
            " 10  trip_duration       1458644 non-null  int64  \n",
            "dtypes: float64(4), int64(3), object(4)\n",
            "memory usage: 122.4+ MB\n"
          ]
        }
      ],
      "source": [
        "# Get info about train dataset\n",
        "train.info()"
      ]
    },
    {
      "cell_type": "code",
      "execution_count": 71,
      "metadata": {
        "colab": {
          "base_uri": "https://localhost:8080/"
        },
        "id": "JZQLJ2Y2fQXM",
        "outputId": "2d456437-7c4b-4511-c750-111a46492ef4"
      },
      "outputs": [
        {
          "output_type": "stream",
          "name": "stdout",
          "text": [
            "<class 'pandas.core.frame.DataFrame'>\n",
            "RangeIndex: 625134 entries, 0 to 625133\n",
            "Data columns (total 9 columns):\n",
            " #   Column              Non-Null Count   Dtype  \n",
            "---  ------              --------------   -----  \n",
            " 0   id                  625134 non-null  object \n",
            " 1   vendor_id           625134 non-null  int64  \n",
            " 2   pickup_datetime     625134 non-null  object \n",
            " 3   passenger_count     625134 non-null  int64  \n",
            " 4   pickup_longitude    625134 non-null  float64\n",
            " 5   pickup_latitude     625134 non-null  float64\n",
            " 6   dropoff_longitude   625134 non-null  float64\n",
            " 7   dropoff_latitude    625134 non-null  float64\n",
            " 8   store_and_fwd_flag  625134 non-null  object \n",
            "dtypes: float64(4), int64(2), object(3)\n",
            "memory usage: 42.9+ MB\n"
          ]
        }
      ],
      "source": [
        "# Get info about test dataset\n",
        "test.info()"
      ]
    },
    {
      "cell_type": "code",
      "execution_count": 72,
      "metadata": {
        "colab": {
          "base_uri": "https://localhost:8080/"
        },
        "id": "PQrwul2VghAH",
        "outputId": "2bc0441f-518b-4356-ee30-60836b89c3e4"
      },
      "outputs": [
        {
          "output_type": "stream",
          "name": "stdout",
          "text": [
            "Number of duplicates in train dataset:  0\n",
            "Number of duplicates in test dataset:  0\n"
          ]
        }
      ],
      "source": [
        "# check duplicates in train dataset\n",
        "print(\"Number of duplicates in train dataset: \", sum(train.duplicated()))\n",
        "\n",
        "# check duplicates in test dataset\n",
        "print(\"Number of duplicates in test dataset: \", sum(test.duplicated()))"
      ]
    },
    {
      "cell_type": "code",
      "execution_count": 73,
      "metadata": {
        "colab": {
          "base_uri": "https://localhost:8080/"
        },
        "id": "ya4Q5M88grv9",
        "outputId": "c1f89365-aae5-4681-e095-56b34d99db9b"
      },
      "outputs": [
        {
          "output_type": "stream",
          "name": "stdout",
          "text": [
            "Number of missing values in train dataset:  0\n",
            "Number of missing values in test dataset:  0\n"
          ]
        }
      ],
      "source": [
        "# check missing values in train dataset\n",
        "print(\"Number of missing values in train dataset: \", train.isnull().sum().sum())\n",
        "\n",
        "# check missing values in test dataset\n",
        "print(\"Number of missing values in test dataset: \", test.isnull().sum().sum())"
      ]
    },
    {
      "cell_type": "code",
      "execution_count": 74,
      "metadata": {
        "id": "Unx5fy04jIL3"
      },
      "outputs": [],
      "source": [
        "# converts pickup_datetime and dropoff_datetime\" columns to datetime format\n",
        "# and then creates additional features \n",
        "\n",
        "\"\"\" Adding additional features from the \"pickup_datetime\" column \n",
        "through feature engineering can provide more meaningful information \n",
        "to the machine learning model and enhance its predictive power\"\"\"\n",
        "\n",
        "\n",
        "train[\"dropoff_datetime\"] = pd.to_datetime(train[\"dropoff_datetime\"])\n",
        "train[\"pickup_datetime\"] = pd.to_datetime(train[\"pickup_datetime\"])\n",
        "train[\"hour\"] = train[\"pickup_datetime\"].dt.hour\n",
        "train[\"minute\"] = train[\"pickup_datetime\"].dt.minute\n",
        "train[\"minute_oftheday\"] = train[\"hour\"] * 60 + train[\"minute\"]\n",
        "train[\"day_week\"] =train[\"pickup_datetime\"].dt.dayofweek\n",
        "train[\"month\"] = train[\"pickup_datetime\"].dt.month\n",
        "\n",
        "test[\"pickup_datetime\"] = pd.to_datetime(test[\"pickup_datetime\"])\n",
        "test[\"hour\"] = test[\"pickup_datetime\"].dt.hour\n",
        "test[\"minute\"] = test[\"pickup_datetime\"].dt.minute\n",
        "test[\"minute_oftheday\"] = test[\"hour\"] * 60 + test[\"minute\"]\n",
        "test[\"day_week\"] =test[\"pickup_datetime\"].dt.dayofweek\n",
        "test[\"month\"] = test[\"pickup_datetime\"].dt.month"
      ]
    },
    {
      "cell_type": "code",
      "execution_count": 75,
      "metadata": {
        "id": "KQSzuLPwUVgn"
      },
      "outputs": [],
      "source": [
        "# Dropping unnecessary columns\n",
        "train.drop([\"pickup_datetime\", \"dropoff_datetime\"], axis=1, inplace=True)\n",
        "test.drop([\"pickup_datetime\"], axis=1, inplace=True)\n",
        "\n"
      ]
    },
    {
      "cell_type": "code",
      "execution_count": 76,
      "metadata": {
        "id": "9SBH8BY82V6Q"
      },
      "outputs": [],
      "source": [
        "train= train.drop(\"id\", axis=1)\n",
        "test= test.drop(\"id\", axis=1)"
      ]
    },
    {
      "cell_type": "code",
      "execution_count": 77,
      "metadata": {
        "colab": {
          "base_uri": "https://localhost:8080/"
        },
        "id": "5C1BBVV0VSfN",
        "outputId": "7c667bb2-9176-4a41-e373-aa3651fdd4ef"
      },
      "outputs": [
        {
          "output_type": "stream",
          "name": "stdout",
          "text": [
            "N    1450599\n",
            "Y       8045\n",
            "Name: store_and_fwd_flag, dtype: int64\n",
            "0    1450599\n",
            "1       8045\n",
            "Name: store_and_fwd_flag, dtype: int64\n"
          ]
        }
      ],
      "source": [
        "# convert categorical variables into numerical representations \n",
        "print(train.store_and_fwd_flag.value_counts())\n",
        "train[\"store_and_fwd_flag\"].replace({'N':0, 'Y':1}, inplace=True)\n",
        "test[\"store_and_fwd_flag\"].replace({'N':0, 'Y':1}, inplace=True)\n",
        "print(train.store_and_fwd_flag.value_counts())"
      ]
    },
    {
      "cell_type": "code",
      "execution_count": 78,
      "metadata": {
        "id": "wYXWLfLu8mq_"
      },
      "outputs": [],
      "source": [
        "#Log Transformation \n",
        "#to reduce the impact of extreme values and make the distribution of the variable more symmetric.\n",
        "#filter 1: log2 to trip duration\n",
        "\n",
        "trip_duration_fil1 = train.copy()\n",
        "trip_duration_fil1['trip_duration'] = np.log2(trip_duration_fil1['trip_duration']+1)\n",
        "\n",
        "#Filtering Outliers\n",
        "#calculate mean and standard deviation\n",
        "mean = trip_duration_fil1['trip_duration'].mean()\n",
        "sd = trip_duration_fil1['trip_duration'].std()\n",
        "lower_bound = mean - (3 * sd)\n",
        "upper_bound = mean + (3 * sd)\n",
        "\n",
        "#filter out the outliers (filter 2)\n",
        "trip_duration_fil2 = trip_duration_fil1[(trip_duration_fil1['trip_duration'] > lower_bound) & \n",
        " (trip_duration_fil1['trip_duration'] < upper_bound)]\n"
      ]
    },
    {
      "cell_type": "code",
      "execution_count": 79,
      "metadata": {
        "id": "c3RpiYTx9Fg8"
      },
      "outputs": [],
      "source": [
        "train = trip_duration_fil2.reset_index(drop=True)"
      ]
    },
    {
      "cell_type": "code",
      "execution_count": 80,
      "metadata": {
        "id": "daVB7CO-5oxI"
      },
      "outputs": [],
      "source": [
        "\"\"\" The code randomly samples a fraction (15%) \n",
        "of the training and test datasets using the sample() function. \n",
        "This is done to reduce the size of the datasets for faster model training.\"\"\"\n",
        "train= train.sample(frac = 0.15,random_state=1)\n",
        "test= test.sample(frac = 0.15,random_state=1)"
      ]
    },
    {
      "cell_type": "markdown",
      "metadata": {
        "id": "w03KoaDhhDso"
      },
      "source": [
        "**Task 2**: Build a machine learning/deep leaning model to predict travel time between two locations from the given dataset, set up your experiment and evaluate your model. "
      ]
    },
    {
      "cell_type": "code",
      "execution_count": null,
      "metadata": {
        "id": "YtwqPdezRMDF"
      },
      "outputs": [],
      "source": [
        "\"\"\" to predict travel time between two locations we can use regression algorithm \n",
        "such as linear regression, decision trees, XGBRegressor and random forest\"\"\""
      ]
    },
    {
      "cell_type": "code",
      "execution_count": 81,
      "metadata": {
        "id": "f1egZNaQXVYX"
      },
      "outputs": [],
      "source": [
        "df=train"
      ]
    },
    {
      "cell_type": "code",
      "execution_count": 82,
      "metadata": {
        "colab": {
          "base_uri": "https://localhost:8080/"
        },
        "id": "VmSkmRDJk_Mh",
        "outputId": "0f7746a4-03da-4197-c8e5-953aca839115"
      },
      "outputs": [
        {
          "output_type": "stream",
          "name": "stdout",
          "text": [
            "Train (152033, 12) (152033,)\n",
            "Test (65157, 12) (65157,)\n"
          ]
        }
      ],
      "source": [
        "x = df.drop('trip_duration', axis = 1)\n",
        "y= df.trip_duration\n",
        "\n",
        "from sklearn.model_selection import train_test_split\n",
        "X_train, X_test, y_train, y_test = train_test_split(x, y,train_size=0.7,test_size=0.3)\n",
        "\n",
        "print('Train', X_train.shape, y_train.shape)\n",
        "print('Test', X_test.shape, y_test.shape)\n",
        "\n",
        "\n"
      ]
    },
    {
      "cell_type": "code",
      "source": [
        "import math\n",
        "import time\n",
        "from sklearn.metrics import r2_score,mean_absolute_error, mean_squared_error"
      ],
      "metadata": {
        "id": "UTREXvbgz3Cu"
      },
      "execution_count": 83,
      "outputs": []
    },
    {
      "cell_type": "code",
      "source": [
        "#Predictive Model0\n",
        "from sklearn.linear_model import LinearRegression\n",
        "\n",
        "#initialize LinearRegression model\n",
        "model_lr= LinearRegression()\n",
        "\n",
        "#fit model \n",
        "model_lr.fit(X_train, y_train)\n",
        "\n",
        "\n",
        "model_lr_pred = model_lr.predict(X_test) \n",
        "model_lr_mae= mean_absolute_error(y_test, model_lr_pred) \n",
        "model_lr_mse = mean_squared_error(y_test, model_lr_pred)\n",
        "model_lr_r2 = r2_score(y_test, model_lr_pred)\n",
        "start_lr = time.time()\n",
        "duration_lr=(time.time() - start_lr)\n",
        "\n",
        "df_lr = pd.DataFrame({\"Model\"           : ['Linear Regression'],\n",
        "                       \"MAE\"  : [model_lr_mae],\n",
        "                       \"MSE\" : [model_lr_mse],\n",
        "                       \"R2 Score\"    : [model_lr_r2], \n",
        "                        \"Duration\"    : [duration_lr],\n",
        "                      })\n",
        "print(df_lr)\n"
      ],
      "metadata": {
        "colab": {
          "base_uri": "https://localhost:8080/"
        },
        "id": "yoZzPyjMz8Kr",
        "outputId": "b69a88b8-2bd3-409f-85ab-28209f167f5e"
      },
      "execution_count": 84,
      "outputs": [
        {
          "output_type": "stream",
          "name": "stdout",
          "text": [
            "               Model      MAE       MSE  R2 Score  Duration\n",
            "0  Linear Regression  0.81772  1.106357  0.001441  0.000075\n"
          ]
        }
      ]
    },
    {
      "cell_type": "code",
      "source": [
        "# Decision Tree Regressor\n",
        "from sklearn.tree import DecisionTreeRegressor\n",
        "\n",
        "#initialize LinearRegression model\n",
        "model_dt = DecisionTreeRegressor(max_depth=8)\n",
        "\n",
        "#fit model \n",
        "model_dt.fit(X_train, y_train)\n",
        "\n",
        "model_dt_pred = model_dt.predict(X_test)\n",
        "model_dt_mae= mean_absolute_error(y_test, model_dt_pred)\n",
        "model_dt_mse = mean_squared_error(y_test, model_dt_pred)\n",
        "model_dt_r2 = r2_score(y_test, model_dt_pred)\n",
        "print(model_dt_pred)\n",
        "\n",
        "start_dt = time.time()\n",
        "duration_dt=(time.time() - start_dt)\n",
        "\n",
        "df_dt = pd.DataFrame({\"Model\"           : ['Decision Tree'],\n",
        "                       \"MAE\"  : [model_dt_mae],\n",
        "                       \"MSE\" : [model_dt_mse],\n",
        "                       \"R2 Score\"    : [model_dt_r2], \n",
        "                        \"Duration\"    : [duration_dt],\n",
        "                      })\n",
        "print(df_dt)\n"
      ],
      "metadata": {
        "colab": {
          "base_uri": "https://localhost:8080/"
        },
        "id": "de6RnTpuz_6s",
        "outputId": "77afb7a0-c5a7-446d-b867-340608949c4b"
      },
      "execution_count": 85,
      "outputs": [
        {
          "output_type": "stream",
          "name": "stdout",
          "text": [
            "[9.06852541 9.06852541 8.82256336 ... 9.06852541 9.02924943 9.92565765]\n",
            "           Model       MAE       MSE  R2 Score  Duration\n",
            "0  Decision Tree  0.648025  0.694221   0.37342  0.000064\n"
          ]
        }
      ]
    },
    {
      "cell_type": "code",
      "source": [
        "# Random Forest Regressor\n",
        "from sklearn.ensemble import RandomForestRegressor\n",
        "model_rf=RandomForestRegressor(n_estimators=100,\n",
        "                              random_state=3,\n",
        "                              max_samples=0.5,\n",
        "                              max_features=0.75,\n",
        "                              max_depth=15)\n",
        "#fit model \n",
        "model_rf.fit(X_train, y_train)\n",
        "\n",
        "model_rf_pred = model_rf.predict(X_test)\n",
        "model_rf_mae= mean_absolute_error(y_test, model_rf_pred)\n",
        "model_rf_mse = mean_squared_error(y_test, model_rf_pred)\n",
        "model_rf_r2 = r2_score(y_test, model_rf_pred)\n",
        "print(model_rf_pred)\n",
        "\n",
        "start_rf = time.time()\n",
        "duration_rf=(time.time() - start_rf)\n",
        "\n",
        "df_rf = pd.DataFrame({\"Model\"           : ['Random Forest '],\n",
        "                       \"MAE\"  : [model_rf_mae],\n",
        "                       \"MSE\" : [model_rf_mse],\n",
        "                       \"R2 Score\"    : [model_rf_r2], \n",
        "                        \"Duration\"    : [duration_rf],\n",
        "                      })\n",
        "print(df_rf)\n"
      ],
      "metadata": {
        "colab": {
          "base_uri": "https://localhost:8080/"
        },
        "id": "9l_Ge6XF0EAg",
        "outputId": "87afd4f4-d2a0-4fd3-9d1b-e75ff16c8c05"
      },
      "execution_count": 86,
      "outputs": [
        {
          "output_type": "stream",
          "name": "stdout",
          "text": [
            "[10.5776728   8.48184414  8.4308283  ...  8.43971241  8.68711703\n",
            "  9.33803573]\n",
            "            Model      MAE       MSE  R2 Score  Duration\n",
            "0  Random Forest   0.45344  0.368959  0.666991  0.000061\n"
          ]
        }
      ]
    },
    {
      "cell_type": "code",
      "source": [
        "#XGB Regressor\n",
        "from xgboost import XGBRegressor\n",
        "modelxg= XGBRegressor(n_estimators=200,max_depth=20,learning_rate=0.1)\n",
        "\n",
        "#fit model \n",
        "modelxg.fit(X_train, y_train)\n",
        "\n",
        "model_xg_pred = modelxg.predict(X_test)\n",
        "model_xg_mae= mean_absolute_error(y_test, model_xg_pred)\n",
        "model_xg_mse = mean_squared_error(y_test, model_xg_pred)\n",
        "model_xg_r2 = r2_score(y_test, model_xg_pred)\n",
        "print(model_xg_pred)\n",
        "\n",
        "start_xg = time.time()\n",
        "duration_xg=(time.time() - start_xg)\n",
        "\n",
        "df_xg = pd.DataFrame({\"Model\"           : [' XGB Regressor'],\n",
        "                       \"MAE\"  : [model_xg_mae],\n",
        "                       \"MSE\" : [model_xg_mse],\n",
        "                       \"R2 Score\"    : [model_xg_r2], \n",
        "                        \"Duration\"    : [duration_xg],\n",
        "                      })\n",
        "print(df_xg)\n"
      ],
      "metadata": {
        "colab": {
          "base_uri": "https://localhost:8080/"
        },
        "id": "llN-2GPD0KCc",
        "outputId": "c0e2b094-04f1-4582-e59e-599ac532b348"
      },
      "execution_count": 87,
      "outputs": [
        {
          "output_type": "stream",
          "name": "stdout",
          "text": [
            "[10.788137   7.883101   8.17302   ...  7.8537803  7.8930078  9.159194 ]\n",
            "            Model       MAE       MSE  R2 Score  Duration\n",
            "0   XGB Regressor  0.362555  0.244857     0.779  0.000053\n"
          ]
        }
      ]
    },
    {
      "cell_type": "code",
      "execution_count": 88,
      "metadata": {
        "colab": {
          "base_uri": "https://localhost:8080/",
          "height": 173
        },
        "id": "Q11yMaGp0vFJ",
        "outputId": "2a97da97-1d3e-45c0-935b-04bca1269ee8"
      },
      "outputs": [
        {
          "output_type": "execute_result",
          "data": {
            "text/plain": [
              "               Model       MAE       MSE  R2 Score  Duration\n",
              "0  Linear Regression  0.817720  1.106357  0.001441  0.000075\n",
              "1      Decision Tree  0.648025  0.694221  0.373420  0.000064\n",
              "2     Random Forest   0.453440  0.368959  0.666991  0.000061\n",
              "3      XGB Regressor  0.362555  0.244857  0.779000  0.000053"
            ],
            "text/html": [
              "\n",
              "  <div id=\"df-32996103-2281-4691-8c06-730535ff3f03\">\n",
              "    <div class=\"colab-df-container\">\n",
              "      <div>\n",
              "<style scoped>\n",
              "    .dataframe tbody tr th:only-of-type {\n",
              "        vertical-align: middle;\n",
              "    }\n",
              "\n",
              "    .dataframe tbody tr th {\n",
              "        vertical-align: top;\n",
              "    }\n",
              "\n",
              "    .dataframe thead th {\n",
              "        text-align: right;\n",
              "    }\n",
              "</style>\n",
              "<table border=\"1\" class=\"dataframe\">\n",
              "  <thead>\n",
              "    <tr style=\"text-align: right;\">\n",
              "      <th></th>\n",
              "      <th>Model</th>\n",
              "      <th>MAE</th>\n",
              "      <th>MSE</th>\n",
              "      <th>R2 Score</th>\n",
              "      <th>Duration</th>\n",
              "    </tr>\n",
              "  </thead>\n",
              "  <tbody>\n",
              "    <tr>\n",
              "      <th>0</th>\n",
              "      <td>Linear Regression</td>\n",
              "      <td>0.817720</td>\n",
              "      <td>1.106357</td>\n",
              "      <td>0.001441</td>\n",
              "      <td>0.000075</td>\n",
              "    </tr>\n",
              "    <tr>\n",
              "      <th>1</th>\n",
              "      <td>Decision Tree</td>\n",
              "      <td>0.648025</td>\n",
              "      <td>0.694221</td>\n",
              "      <td>0.373420</td>\n",
              "      <td>0.000064</td>\n",
              "    </tr>\n",
              "    <tr>\n",
              "      <th>2</th>\n",
              "      <td>Random Forest</td>\n",
              "      <td>0.453440</td>\n",
              "      <td>0.368959</td>\n",
              "      <td>0.666991</td>\n",
              "      <td>0.000061</td>\n",
              "    </tr>\n",
              "    <tr>\n",
              "      <th>3</th>\n",
              "      <td>XGB Regressor</td>\n",
              "      <td>0.362555</td>\n",
              "      <td>0.244857</td>\n",
              "      <td>0.779000</td>\n",
              "      <td>0.000053</td>\n",
              "    </tr>\n",
              "  </tbody>\n",
              "</table>\n",
              "</div>\n",
              "      <button class=\"colab-df-convert\" onclick=\"convertToInteractive('df-32996103-2281-4691-8c06-730535ff3f03')\"\n",
              "              title=\"Convert this dataframe to an interactive table.\"\n",
              "              style=\"display:none;\">\n",
              "        \n",
              "  <svg xmlns=\"http://www.w3.org/2000/svg\" height=\"24px\"viewBox=\"0 0 24 24\"\n",
              "       width=\"24px\">\n",
              "    <path d=\"M0 0h24v24H0V0z\" fill=\"none\"/>\n",
              "    <path d=\"M18.56 5.44l.94 2.06.94-2.06 2.06-.94-2.06-.94-.94-2.06-.94 2.06-2.06.94zm-11 1L8.5 8.5l.94-2.06 2.06-.94-2.06-.94L8.5 2.5l-.94 2.06-2.06.94zm10 10l.94 2.06.94-2.06 2.06-.94-2.06-.94-.94-2.06-.94 2.06-2.06.94z\"/><path d=\"M17.41 7.96l-1.37-1.37c-.4-.4-.92-.59-1.43-.59-.52 0-1.04.2-1.43.59L10.3 9.45l-7.72 7.72c-.78.78-.78 2.05 0 2.83L4 21.41c.39.39.9.59 1.41.59.51 0 1.02-.2 1.41-.59l7.78-7.78 2.81-2.81c.8-.78.8-2.07 0-2.86zM5.41 20L4 18.59l7.72-7.72 1.47 1.35L5.41 20z\"/>\n",
              "  </svg>\n",
              "      </button>\n",
              "      \n",
              "  <style>\n",
              "    .colab-df-container {\n",
              "      display:flex;\n",
              "      flex-wrap:wrap;\n",
              "      gap: 12px;\n",
              "    }\n",
              "\n",
              "    .colab-df-convert {\n",
              "      background-color: #E8F0FE;\n",
              "      border: none;\n",
              "      border-radius: 50%;\n",
              "      cursor: pointer;\n",
              "      display: none;\n",
              "      fill: #1967D2;\n",
              "      height: 32px;\n",
              "      padding: 0 0 0 0;\n",
              "      width: 32px;\n",
              "    }\n",
              "\n",
              "    .colab-df-convert:hover {\n",
              "      background-color: #E2EBFA;\n",
              "      box-shadow: 0px 1px 2px rgba(60, 64, 67, 0.3), 0px 1px 3px 1px rgba(60, 64, 67, 0.15);\n",
              "      fill: #174EA6;\n",
              "    }\n",
              "\n",
              "    [theme=dark] .colab-df-convert {\n",
              "      background-color: #3B4455;\n",
              "      fill: #D2E3FC;\n",
              "    }\n",
              "\n",
              "    [theme=dark] .colab-df-convert:hover {\n",
              "      background-color: #434B5C;\n",
              "      box-shadow: 0px 1px 3px 1px rgba(0, 0, 0, 0.15);\n",
              "      filter: drop-shadow(0px 1px 2px rgba(0, 0, 0, 0.3));\n",
              "      fill: #FFFFFF;\n",
              "    }\n",
              "  </style>\n",
              "\n",
              "      <script>\n",
              "        const buttonEl =\n",
              "          document.querySelector('#df-32996103-2281-4691-8c06-730535ff3f03 button.colab-df-convert');\n",
              "        buttonEl.style.display =\n",
              "          google.colab.kernel.accessAllowed ? 'block' : 'none';\n",
              "\n",
              "        async function convertToInteractive(key) {\n",
              "          const element = document.querySelector('#df-32996103-2281-4691-8c06-730535ff3f03');\n",
              "          const dataTable =\n",
              "            await google.colab.kernel.invokeFunction('convertToInteractive',\n",
              "                                                     [key], {});\n",
              "          if (!dataTable) return;\n",
              "\n",
              "          const docLinkHtml = 'Like what you see? Visit the ' +\n",
              "            '<a target=\"_blank\" href=https://colab.research.google.com/notebooks/data_table.ipynb>data table notebook</a>'\n",
              "            + ' to learn more about interactive tables.';\n",
              "          element.innerHTML = '';\n",
              "          dataTable['output_type'] = 'display_data';\n",
              "          await google.colab.output.renderOutput(dataTable, element);\n",
              "          const docLink = document.createElement('div');\n",
              "          docLink.innerHTML = docLinkHtml;\n",
              "          element.appendChild(docLink);\n",
              "        }\n",
              "      </script>\n",
              "    </div>\n",
              "  </div>\n",
              "  "
            ]
          },
          "metadata": {},
          "execution_count": 88
        }
      ],
      "source": [
        "#concat all models\n",
        "model_performances = pd.concat([df_lr,df_dt,df_rf,df_xg],axis = 0).reset_index()\n",
        "\n",
        "model_performances = model_performances.drop(columns = \"index\",axis =1)\n",
        "\n",
        "model_performances"
      ]
    },
    {
      "cell_type": "code",
      "execution_count": 89,
      "metadata": {
        "id": "eSHzA03pIoaP"
      },
      "outputs": [],
      "source": [
        "import matplotlib.pyplot as plt"
      ]
    },
    {
      "cell_type": "code",
      "execution_count": 90,
      "metadata": {
        "id": "2ABmfof4I4fo"
      },
      "outputs": [],
      "source": [
        "# Define the evaluation metrics for each algorithm\n",
        "\n",
        "mse_scores = [model_lr_mse,model_dt_mse,model_rf_mse,model_xg_mse]\n",
        "mae_scores = [model_lr_mae,model_dt_mae,model_rf_mae,model_xg_mae]\n",
        "r2_scores = [model_lr_r2, model_dt_r2, model_rf_r2, model_xg_r2]\n",
        "\n",
        "# Define the names of the algorithms\n",
        "algorithms = ['LinearRegression','DecisionTree','RandomForest','xgboost']\n"
      ]
    },
    {
      "cell_type": "code",
      "execution_count": 91,
      "metadata": {
        "id": "HDK1iNGXKoiZ",
        "colab": {
          "base_uri": "https://localhost:8080/",
          "height": 452
        },
        "outputId": "e06d7623-18f4-4f73-fa6b-e4c7062f2ffc"
      },
      "outputs": [
        {
          "output_type": "display_data",
          "data": {
            "text/plain": [
              "<Figure size 640x480 with 1 Axes>"
            ],
            "image/png": "[encoded data removed]"
          },
          "metadata": {}
        }
      ],
      "source": [
        "# Set the positions of the bars on the x-axis\n",
        "x = np.arange(len(algorithms))\n",
        "\n",
        "# Set the width of the bars\n",
        "width = 0.2\n",
        "\n",
        "# Create the figure and axes\n",
        "fig, ax = plt.subplots()\n",
        "\n",
        "# Plot the mean squared error\n",
        "ax.bar(x - width, mse_scores, width, label='MSE')\n",
        "\n",
        "# Plot the mean absolute error\n",
        "ax.bar(x, mae_scores, width, label='MAE')\n",
        "\n",
        "# Plot the R-squared score\n",
        "ax.bar(x + width, r2_scores, width, label='R-squared')\n",
        "\n",
        "# Set the x-axis ticks and labels\n",
        "ax.set_xticks(x)\n",
        "ax.set_xticklabels(algorithms)\n",
        "\n",
        "# Set the y-axis label\n",
        "ax.set_ylabel('Performance')\n",
        "\n",
        "# Set the chart title\n",
        "ax.set_title('Performance Comparison of Regression Algorithms')\n",
        "\n",
        "# Add a legend\n",
        "ax.legend()\n",
        "\n",
        "# Show the plot\n",
        "plt.show()\n"
      ]
    },
    {
      "cell_type": "markdown",
      "metadata": {
        "id": "3twALvuIQ52T"
      },
      "source": [
        "# Task 3\n",
        "\n",
        " Build an optimization model to construct the optimal traveling route (e.g., genetic algorithms), given a set of locations a taxi driver wants to visit and his starting location.\n",
        " "
      ]
    },
    {
      "cell_type": "code",
      "execution_count": 92,
      "metadata": {
        "colab": {
          "base_uri": "https://localhost:8080/"
        },
        "id": "y1JAZgWwQ5fc",
        "outputId": "28f6f25c-4686-4a17-fbdd-c5662fb1fc9b"
      },
      "outputs": [
        {
          "output_type": "stream",
          "name": "stdout",
          "text": [
            "Looking in indexes: https://pypi.org/simple, https://us-python.pkg.dev/colab-wheels/public/simple/\n",
            "Requirement already satisfied: deap in /usr/local/lib/python3.10/dist-packages (1.3.3)\n",
            "Requirement already satisfied: numpy in /usr/local/lib/python3.10/dist-packages (from deap) (1.22.4)\n"
          ]
        }
      ],
      "source": [
        "!pip install deap"
      ]
    },
    {
      "cell_type": "code",
      "execution_count": 93,
      "metadata": {
        "id": "ZXO38JBvE69E"
      },
      "outputs": [],
      "source": [
        "from math import radians, sin, cos, sqrt, atan2\n",
        "import random\n",
        "from deap import base, creator, tools, algorithms"
      ]
    },
    {
      "cell_type": "code",
      "execution_count": 94,
      "metadata": {
        "id": "pV1zEzA1E9yX"
      },
      "outputs": [],
      "source": [
        "# Assuming the set of locations is represented as a list of coordinates [(x1, y1), (x2, y2), ...]\n",
        "locations = [(40.7128, -74.0060), (40.7397, -74.0028), (40.7489, -73.9680), (40.7589, -73.9851),\n",
        " (40.747379,-73.970184), (40.763725, -73.953156)]\n",
        "# Define the starting location\n",
        "starting_location = (40.7128, -74.0060)  "
      ]
    },
    {
      "cell_type": "code",
      "execution_count": 95,
      "metadata": {
        "id": "DW8ChTPllTWU"
      },
      "outputs": [],
      "source": [
        "\n",
        "# Calculate the distance between two coordinates using the Haversine formula\n",
        "def calculate_distance(coord1, coord2):\n",
        "    lat1, lon1 = coord1\n",
        "    lat2, lon2 = coord2\n",
        "    earth_radius = 6371.0  # Radius of the Earth in kilometers\n",
        "\n",
        "    lat1_rad = radians(lat1)\n",
        "    lon1_rad = radians(lon1)\n",
        "    lat2_rad = radians(lat2)\n",
        "    lon2_rad = radians(lon2)\n",
        "\n",
        "    delta_lat = lat2_rad - lat1_rad\n",
        "    delta_lon = lon2_rad - lon1_rad\n",
        "\n",
        "    a = sin(delta_lat / 2) ** 2 + cos(lat1_rad) * cos(lat2_rad) * sin(delta_lon / 2) ** 2\n",
        "    c = 2 * atan2(sqrt(a), sqrt(1 - a))\n",
        "\n",
        "    distance = earth_radius * c\n",
        "    return distance"
      ]
    },
    {
      "cell_type": "code",
      "execution_count": null,
      "metadata": {
        "id": "CAEL7omCnsQc"
      },
      "outputs": [],
      "source": [
        "# Create the fitness function\n",
        "creator.create(\"FitnessMin\", base.Fitness, weights=(-1.0,))\n",
        "creator.create(\"Individual\", list, fitness=creator.FitnessMin)\n",
        "\n",
        "toolbox = base.Toolbox()"
      ]
    },
    {
      "cell_type": "code",
      "execution_count": 97,
      "metadata": {
        "id": "yxvpGTgBn0EB"
      },
      "outputs": [],
      "source": [
        "\n",
        "# register the necessary functions for the genetic algorithm.\n",
        "toolbox.register(\"indices\", random.sample, range(len(locations)), len(locations))\n",
        "toolbox.register(\"individual\", tools.initIterate, creator.Individual, toolbox.indices)\n",
        "toolbox.register(\"population\", tools.initRepeat, list, toolbox.individual)\n",
        "\n",
        "def evaluate_fitness(individual):\n",
        "    route = [starting_location] + [locations[i] for i in individual] + [starting_location]\n",
        "    total_distance = 0\n",
        "    for i in range(len(route) - 1):\n",
        "        total_distance += calculate_distance(route[i], route[i+1])\n",
        "    return total_distance,\n",
        "\n",
        "toolbox.register(\"evaluate\",evaluate_fitness)\n",
        "toolbox.register(\"mate\", tools.cxPartialyMatched)\n",
        "toolbox.register(\"mutate\", tools.mutShuffleIndexes, indpb=0.05)\n",
        "toolbox.register(\"select\", tools.selTournament, tournsize=3)"
      ]
    },
    {
      "cell_type": "code",
      "execution_count": 98,
      "metadata": {
        "id": "yyXDdvrvn4TI"
      },
      "outputs": [],
      "source": [
        "# Set the parameters\n",
        "population_size = 100\n",
        "crossover_probability = 0.8\n",
        "mutation_probability = 0.2\n",
        "number_of_generations = 100\n",
        "\n",
        "population = toolbox.population(n=population_size)"
      ]
    },
    {
      "cell_type": "code",
      "execution_count": 99,
      "metadata": {
        "id": "ZT9mrM63n-ny"
      },
      "outputs": [],
      "source": [
        "# Run the genetic algorithm\n",
        "for generation in range(number_of_generations):\n",
        "    offspring = algorithms.varAnd(population, toolbox, cxpb=crossover_probability, mutpb=mutation_probability)\n",
        "    fits = toolbox.map(toolbox.evaluate, offspring)\n",
        "    for fit, ind in zip(fits, offspring):\n",
        "        ind.fitness.values = fit\n",
        "    population = toolbox.select(offspring, k=len(population))"
      ]
    },
    {
      "cell_type": "code",
      "execution_count": 100,
      "metadata": {
        "id": "v1OA3UwcoGvN"
      },
      "outputs": [],
      "source": [
        "# Get the best individual\n",
        "best_individual = tools.selBest(population, k=1)[0]\n",
        "best_route = [starting_location] + [locations[i] for i in best_individual] + [starting_location]"
      ]
    },
    {
      "cell_type": "code",
      "execution_count": 102,
      "metadata": {
        "colab": {
          "base_uri": "https://localhost:8080/"
        },
        "id": "A3-uBKsGC2JM",
        "outputId": "c7ff6e82-c52f-4027-9cc3-357b41b2e9e4"
      },
      "outputs": [
        {
          "output_type": "stream",
          "name": "stdout",
          "text": [
            "40.7128 -74.006\n",
            "40.747379 -73.970184\n",
            "40.7489 -73.968\n",
            "40.763725 -73.953156\n",
            "40.7589 -73.9851\n",
            "40.7397 -74.0028\n",
            "40.7128 -74.006\n",
            "40.7128 -74.006\n"
          ]
        }
      ],
      "source": [
        "for tupleObj in best_route:\n",
        "  print(*tupleObj)"
      ]
    },
    {
      "cell_type": "code",
      "execution_count": 101,
      "metadata": {
        "colab": {
          "base_uri": "https://localhost:8080/"
        },
        "id": "DBEfoFMHoOf6",
        "outputId": "48241319-ad10-4ef2-fc00-b6fea96298c4"
      },
      "outputs": [
        {
          "output_type": "stream",
          "name": "stdout",
          "text": [
            "Best Route: [(40.7128, -74.006), (40.747379, -73.970184), (40.7489, -73.968), (40.763725, -73.953156), (40.7589, -73.9851), (40.7397, -74.0028), (40.7128, -74.006), (40.7128, -74.006)]\n"
          ]
        }
      ],
      "source": [
        "# Print the best route \n",
        "print(\"Best Route:\", best_route)"
      ]
    }
  ],
  "metadata": {
    "colab": {
      "provenance": []
    },
    "kernelspec": {
      "display_name": "Python 3",
      "name": "python3"
    },
    "language_info": {
      "name": "python"
    }
  },
  "nbformat": 4,
  "nbformat_minor": 0
}